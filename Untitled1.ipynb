{
  "nbformat": 4,
  "nbformat_minor": 0,
  "metadata": {
    "colab": {
      "provenance": [],
      "authorship_tag": "ABX9TyNN4FmpLXUj4R9s1lvgP84Z",
      "include_colab_link": true
    },
    "kernelspec": {
      "name": "python3",
      "display_name": "Python 3"
    },
    "language_info": {
      "name": "python"
    }
  },
  "cells": [
    {
      "cell_type": "markdown",
      "metadata": {
        "id": "view-in-github",
        "colab_type": "text"
      },
      "source": [
        "<a href=\"https://colab.research.google.com/github/rahulakkasali/CONNECT.IN/blob/main/Untitled1.ipynb\" target=\"_parent\"><img src=\"https://colab.research.google.com/assets/colab-badge.svg\" alt=\"Open In Colab\"/></a>"
      ]
    },
    {
      "cell_type": "code",
      "execution_count": 2,
      "metadata": {
        "colab": {
          "base_uri": "https://localhost:8080/",
          "height": 108
        },
        "id": "_LhmgXgLdYbM",
        "outputId": "2ae53f81-0012-49ee-885d-68de7e3e9d2b"
      },
      "outputs": [
        {
          "output_type": "error",
          "ename": "SyntaxError",
          "evalue": "invalid syntax (ipython-input-3063460682.py, line 1)",
          "traceback": [
            "\u001b[0;36m  File \u001b[0;32m\"/tmp/ipython-input-3063460682.py\"\u001b[0;36m, line \u001b[0;32m1\u001b[0m\n\u001b[0;31m    pip3 install scipy\u001b[0m\n\u001b[0m         ^\u001b[0m\n\u001b[0;31mSyntaxError\u001b[0m\u001b[0;31m:\u001b[0m invalid syntax\n"
          ]
        }
      ],
      "source": [
        "pip3 install scipy\n"
      ]
    },
    {
      "cell_type": "code",
      "source": [
        "pip install scipy\n"
      ],
      "metadata": {
        "colab": {
          "base_uri": "https://localhost:8080/"
        },
        "id": "JPjwxgRndi9J",
        "outputId": "374c9cd4-5049-413e-fa97-3e56ac2f3bf0"
      },
      "execution_count": 3,
      "outputs": [
        {
          "output_type": "stream",
          "name": "stdout",
          "text": [
            "Requirement already satisfied: scipy in /usr/local/lib/python3.12/dist-packages (1.16.2)\n",
            "Requirement already satisfied: numpy<2.6,>=1.25.2 in /usr/local/lib/python3.12/dist-packages (from scipy) (2.0.2)\n"
          ]
        }
      ]
    },
    {
      "cell_type": "code",
      "source": [
        "import numpy as np\n",
        "from  scipy.optimize import minimize\n",
        "def eqn(x):\n",
        "  return x**2 + x + 2\n",
        "my_min=minimize(eqn,0,method='BFGS')\n",
        "print(my_min)\n"
      ],
      "metadata": {
        "colab": {
          "base_uri": "https://localhost:8080/"
        },
        "id": "JvlPB4UWdq6L",
        "outputId": "f634ac3d-1848-4323-8539-5d019134c0b8"
      },
      "execution_count": 5,
      "outputs": [
        {
          "output_type": "stream",
          "name": "stdout",
          "text": [
            "  message: Optimization terminated successfully.\n",
            "  success: True\n",
            "   status: 0\n",
            "      fun: 1.75\n",
            "        x: [-5.000e-01]\n",
            "      nit: 2\n",
            "      jac: [ 0.000e+00]\n",
            " hess_inv: [[ 5.000e-01]]\n",
            "     nfev: 8\n",
            "     njev: 4\n"
          ]
        }
      ]
    },
    {
      "cell_type": "code",
      "source": [
        "import numpy as np\n",
        "from scipy.sparse import csr_matrix\n",
        "arr=np.array([0,0,0,0,1,1,0,2])\n",
        "print(csr_matrix(arr).eliminate_zeros())"
      ],
      "metadata": {
        "colab": {
          "base_uri": "https://localhost:8080/"
        },
        "id": "hxKuck14e5ul",
        "outputId": "b9d4b76f-4113-4b4d-9843-0cdbbdc46cb9"
      },
      "execution_count": 10,
      "outputs": [
        {
          "output_type": "stream",
          "name": "stdout",
          "text": [
            "None\n"
          ]
        }
      ]
    },
    {
      "cell_type": "code",
      "source": [
        "import numpy as np\n",
        "from scipy.sparse import csr_matrix\n",
        "arr=np.array ([[0,0,0],[0,0,1],[1,0,2]])\n",
        "#mat=csr_matrix(arr)\n",
        "a=csr_matrix(arr).tocsc()\n",
        "print(a)"
      ],
      "metadata": {
        "colab": {
          "base_uri": "https://localhost:8080/"
        },
        "id": "X4ckwGpAhIRn",
        "outputId": "6509843f-7259-4ffd-e212-80a2719b01da"
      },
      "execution_count": 17,
      "outputs": [
        {
          "output_type": "stream",
          "name": "stdout",
          "text": [
            "<Compressed Sparse Column sparse matrix of dtype 'int64'\n",
            "\twith 3 stored elements and shape (3, 3)>\n",
            "  Coords\tValues\n",
            "  (2, 0)\t1\n",
            "  (1, 2)\t1\n",
            "  (2, 2)\t2\n"
          ]
        }
      ]
    },
    {
      "cell_type": "code",
      "source": [
        "import numpy as np\n",
        "from scipy.sparse.csgraph import dijkstra\n",
        "arr=np.array([\n",
        "              [0,1,2],\n",
        "              [1,0,0],\n",
        "              [2,0,0]\n",
        "])\n",
        "newarr=csr_matrix(arr)\n",
        "a=dijkstra(newarr,return_predecessors=False)\n",
        "print(a)"
      ],
      "metadata": {
        "colab": {
          "base_uri": "https://localhost:8080/"
        },
        "id": "idaawP_bjRzp",
        "outputId": "90baa9f7-7133-4c09-90a0-fea2441b4895"
      },
      "execution_count": 23,
      "outputs": [
        {
          "output_type": "stream",
          "name": "stdout",
          "text": [
            "[[0. 1. 2.]\n",
            " [1. 0. 3.]\n",
            " [2. 3. 0.]]\n"
          ]
        }
      ]
    },
    {
      "cell_type": "markdown",
      "source": [],
      "metadata": {
        "id": "oyGQQl-lhm45"
      }
    },
    {
      "cell_type": "code",
      "source": [
        "import numpy as np\n",
        "from scipy.sparse.csgraph import floyd_warshall\n",
        "arr=np.array([\n",
        "              [0,1,2],\n",
        "              [1,0,0],\n",
        "              [2,0,0]\n",
        "])\n",
        "newarr=csr_matrix(arr)\n",
        "a=floyd_warshall(newarr,return_predecessors=True)\n",
        "print(a)"
      ],
      "metadata": {
        "colab": {
          "base_uri": "https://localhost:8080/"
        },
        "id": "S3P0m51emI__",
        "outputId": "f05faccb-e82e-4328-d0c3-94b30fe1c3c8"
      },
      "execution_count": 25,
      "outputs": [
        {
          "output_type": "stream",
          "name": "stdout",
          "text": [
            "(array([[0., 1., 2.],\n",
            "       [1., 0., 3.],\n",
            "       [2., 3., 0.]]), array([[-9999,     0,     0],\n",
            "       [    1, -9999,     0],\n",
            "       [    2,     0, -9999]], dtype=int32))\n"
          ]
        }
      ]
    },
    {
      "cell_type": "code",
      "source": [
        "import numpy as np\n",
        "from scipy.sparse.csgraph import depth_first_order\n",
        "arr=np.array([\n",
        "              [0,1,2],\n",
        "              [1,0,0],\n",
        "              [2,0,0]\n",
        "])\n",
        "newarr=csr_matrix(arr)\n",
        "a=depth_first_order(newarr,1)\n",
        "print(a)"
      ],
      "metadata": {
        "colab": {
          "base_uri": "https://localhost:8080/"
        },
        "id": "UNe-bXaPpaHB",
        "outputId": "c1086c92-e806-4a04-8764-2d6e82a5b369"
      },
      "execution_count": 27,
      "outputs": [
        {
          "output_type": "stream",
          "name": "stdout",
          "text": [
            "(array([1, 0, 2], dtype=int32), array([    1, -9999,     0], dtype=int32))\n"
          ]
        }
      ]
    },
    {
      "cell_type": "markdown",
      "source": [],
      "metadata": {
        "id": "qIzBQBkZjnRy"
      }
    },
    {
      "cell_type": "markdown",
      "source": [],
      "metadata": {
        "id": "9FzvL0n9nA8p"
      }
    }
  ]
}